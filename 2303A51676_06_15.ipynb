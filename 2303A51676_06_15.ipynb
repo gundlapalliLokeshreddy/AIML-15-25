{
  "nbformat": 4,
  "nbformat_minor": 0,
  "metadata": {
    "colab": {
      "provenance": [],
      "authorship_tag": "ABX9TyP7czFxjru6Gd+mOxMgH81W",
      "include_colab_link": true
    },
    "kernelspec": {
      "name": "python3",
      "display_name": "Python 3"
    },
    "language_info": {
      "name": "python"
    }
  },
  "cells": [
    {
      "cell_type": "markdown",
      "metadata": {
        "id": "view-in-github",
        "colab_type": "text"
      },
      "source": [
        "<a href=\"https://colab.research.google.com/github/gundlapalliLokeshreddy/AIML-15-25/blob/main/2303A51676_06_15.ipynb\" target=\"_parent\"><img src=\"https://colab.research.google.com/assets/colab-badge.svg\" alt=\"Open In Colab\"/></a>"
      ]
    },
    {
      "cell_type": "code",
      "execution_count": 12,
      "metadata": {
        "colab": {
          "base_uri": "https://localhost:8080/"
        },
        "id": "HojPb58X_-qI",
        "outputId": "c6783689-f119-4b99-9be9-881e942ad6b6"
      },
      "outputs": [
        {
          "output_type": "stream",
          "name": "stdout",
          "text": [
            "  reasons_for_aging community  gender  age_impact  employment_impact  \\\n",
            "0  Lack of exercise     Urban    Male       False               True   \n",
            "1            Stress     Urban  Female       False               True   \n",
            "2            Stress  Suburban  Female        True               True   \n",
            "3            Stress     Urban    Male        True               True   \n",
            "4          Genetics     Rural  Female        True               True   \n",
            "\n",
            "   stress_impact doctor_visits_category  \n",
            "0          False                    70+  \n",
            "1           True                  31-50  \n",
            "2           True                  18-30  \n",
            "3           True                  18-30  \n",
            "4           True                    70+  \n"
          ]
        }
      ],
      "source": [
        "import pandas as pd\n",
        "import numpy as np\n",
        "\n",
        "# Define the number of responses\n",
        "num_responses = 1000\n",
        "\n",
        "# Generate random responses\n",
        "df = pd.DataFrame({\n",
        "    'reasons_for_aging': [np.random.choice(['Poor diet', 'Lack of exercise', 'Stress', 'Genetics', 'Chronic diseases']) for _ in range(num_responses)],\n",
        "    'community': np.random.choice(['Rural', 'Urban', 'Suburban'], num_responses),\n",
        "    'gender': np.random.choice(['Male', 'Female'], num_responses),\n",
        "    'age_impact': np.random.choice([True, False], num_responses),\n",
        "    'employment_impact': np.random.choice([True, False], num_responses),\n",
        "    'stress_impact': np.random.choice([True, False], num_responses),\n",
        "    'doctor_visits_category': np.random.choice(['18-30', '31-50', '51-70', '70+'], num_responses)\n",
        "})\n",
        "\n",
        "# Print the first few rows\n",
        "print(df.head())"
      ]
    },
    {
      "cell_type": "code",
      "source": [
        "reason_counts = df['reasons_for_aging'].value_counts()\n",
        "print(reason_counts)"
      ],
      "metadata": {
        "colab": {
          "base_uri": "https://localhost:8080/"
        },
        "id": "QLOpW5pcIxUb",
        "outputId": "24572fdf-7c37-4052-a86c-52fe5904ba82"
      },
      "execution_count": 13,
      "outputs": [
        {
          "output_type": "stream",
          "name": "stdout",
          "text": [
            "reasons_for_aging\n",
            "Lack of exercise    213\n",
            "Poor diet           210\n",
            "Genetics            205\n",
            "Chronic diseases    191\n",
            "Stress              181\n",
            "Name: count, dtype: int64\n"
          ]
        }
      ]
    },
    {
      "cell_type": "code",
      "source": [
        "community_counts = df['community'].value_counts()\n",
        "print(community_counts)"
      ],
      "metadata": {
        "colab": {
          "base_uri": "https://localhost:8080/"
        },
        "id": "Rfgv9Sj6Iz5O",
        "outputId": "e409d097-c7c6-406b-a8c1-0221aeef2c8f"
      },
      "execution_count": 14,
      "outputs": [
        {
          "output_type": "stream",
          "name": "stdout",
          "text": [
            "community\n",
            "Rural       369\n",
            "Suburban    343\n",
            "Urban       288\n",
            "Name: count, dtype: int64\n"
          ]
        }
      ]
    },
    {
      "cell_type": "code",
      "source": [
        "gender_counts = df['gender'].value_counts()\n",
        "print(gender_counts)"
      ],
      "metadata": {
        "colab": {
          "base_uri": "https://localhost:8080/"
        },
        "id": "CUirATo2I2nN",
        "outputId": "4ac1a40f-1016-499a-ed68-157a88dc5490"
      },
      "execution_count": 15,
      "outputs": [
        {
          "output_type": "stream",
          "name": "stdout",
          "text": [
            "gender\n",
            "Male      505\n",
            "Female    495\n",
            "Name: count, dtype: int64\n"
          ]
        }
      ]
    },
    {
      "cell_type": "code",
      "source": [
        "impact_summary = df[['age_impact', 'employment_impact', 'stress_impact']].mean()\n",
        "print(impact_summary)"
      ],
      "metadata": {
        "colab": {
          "base_uri": "https://localhost:8080/"
        },
        "id": "OmWgK3BTI5my",
        "outputId": "0f1665c2-9d4c-4695-d8db-ca0d53c3f291"
      },
      "execution_count": 16,
      "outputs": [
        {
          "output_type": "stream",
          "name": "stdout",
          "text": [
            "age_impact           0.505\n",
            "employment_impact    0.493\n",
            "stress_impact        0.472\n",
            "dtype: float64\n"
          ]
        }
      ]
    },
    {
      "cell_type": "code",
      "source": [
        "doctor_visit_counts = df['doctor_visits_category'].value_counts()\n",
        "print(doctor_visit_counts)"
      ],
      "metadata": {
        "colab": {
          "base_uri": "https://localhost:8080/"
        },
        "id": "IopHBU70I8f4",
        "outputId": "938747c4-26ab-486c-9e83-0d341fba871e"
      },
      "execution_count": 17,
      "outputs": [
        {
          "output_type": "stream",
          "name": "stdout",
          "text": [
            "doctor_visits_category\n",
            "31-50    260\n",
            "70+      254\n",
            "51-70    250\n",
            "18-30    236\n",
            "Name: count, dtype: int64\n"
          ]
        }
      ]
    }
  ]
}